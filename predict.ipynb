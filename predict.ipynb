{
 "cells": [
  {
   "cell_type": "code",
   "execution_count": null,
   "metadata": {},
   "outputs": [],
   "source": [
    "%env USERNAME=username\n",
    "%env PASSWORD=password"
   ]
  },
  {
   "cell_type": "code",
   "execution_count": null,
   "metadata": {},
   "outputs": [],
   "source": [
    "%mkdir data\n",
    "%cd data\n",
    "!kg download -u $USERNAME -p $PASSWORD -c invasive-species-monitoring"
   ]
  },
  {
   "cell_type": "code",
   "execution_count": null,
   "metadata": {},
   "outputs": [],
   "source": [
    "!7za x train.7z -bd\n",
    "!7za x test.7z -bd\n",
    "!unzip train_labels.csv.zip\n",
    "!rm train.7z\n",
    "!rm test.7z\n",
    "!rm train_labels.csv.zip"
   ]
  },
  {
   "cell_type": "code",
   "execution_count": null,
   "metadata": {},
   "outputs": [],
   "source": [
    "import numpy as np\n",
    "import os\n",
    "import shutil"
   ]
  },
  {
   "cell_type": "code",
   "execution_count": null,
   "metadata": {},
   "outputs": [],
   "source": [
    "train_labels = np.genfromtxt('train_labels.csv', dtype=np.int16, delimiter=\",\", skip_header=1)\n",
    "\n",
    "train_ratio = 0.70\n",
    "sample_size = 10\n",
    "\n",
    "valid_invasive_size = int((1 - train_ratio) * np.sum(train_labels[:, 1] == 1))\n",
    "valid_noninvasive_size = int((1 - train_ratio) * np.sum((train_labels[:, 1] == 0)))\n",
    "\n",
    "for folder in [\"train/invasive\", \"train/noninvasive\",\n",
    "               \"valid/invasive\", \"valid/noninvasive\",\n",
    "               \"sample/train/invasive\", \"sample/train/noninvasive\",\n",
    "               \"sample/valid/invasive\", \"sample/valid/noninvasive\",\n",
    "               \"test/unknown\"]:\n",
    "    os.makedirs(folder)\n",
    "\n",
    "for id in train_labels[np.where(train_labels[:, 1] == 1)][:, 0]:\n",
    "    shutil.move(\"train/%s.jpg\" % id, \"train/invasive/\")\n",
    "    \n",
    "for id in train_labels[np.where(train_labels[:, 1] == 0)][:, 0]:\n",
    "    shutil.move(\"train/%s.jpg\" % id, \"train/noninvasive/\")\n",
    "\n",
    "for file in os.listdir(\"train/invasive\")[:valid_invasive_size]:\n",
    "    shutil.move(\"train/invasive/%s\" % file, \"valid/invasive/\")\n",
    "    \n",
    "for file in os.listdir(\"train/noninvasive\")[:valid_noninvasive_size]:\n",
    "    shutil.move(\"train/noninvasive/%s\" % file, \"valid/noninvasive/\")\n",
    "\n",
    "for folder in [\"train/invasive\", \"train/noninvasive\",\n",
    "               \"valid/invasive\", \"valid/noninvasive\"]:\n",
    "    for file in os.listdir(folder)[:sample_size]:\n",
    "        shutil.copy(\"%s/%s\" % (folder, file), \"sample/%s/\" % folder)\n",
    "    \n",
    "for file in os.listdir(\"test\"):\n",
    "    shutil.move(\"test/%s\" % file, \"test/unknown/\")\n",
    "\n",
    "%cd .."
   ]
  },
  {
   "cell_type": "code",
   "execution_count": null,
   "metadata": {},
   "outputs": [],
   "source": [
    "from vgg16 import Vgg16\n",
    "from keras.callbacks import ModelCheckpoint"
   ]
  },
  {
   "cell_type": "code",
   "execution_count": null,
   "metadata": {},
   "outputs": [],
   "source": [
    "path = \"data/\" # \"data/sample/\""
   ]
  },
  {
   "cell_type": "code",
   "execution_count": null,
   "metadata": {},
   "outputs": [],
   "source": [
    "batch_size = 32\n",
    "epochs = 1"
   ]
  },
  {
   "cell_type": "code",
   "execution_count": null,
   "metadata": {},
   "outputs": [],
   "source": [
    "vgg = Vgg16()\n",
    "\n",
    "batches = vgg.get_batches(path + \"train/\", batch_size=batch_size)\n",
    "valid_batches = vgg.get_valid_batches(path + \"valid/\", batch_size=batch_size)\n",
    "vgg.finetune(batches)\n",
    "\n",
    "checkpoint = ModelCheckpoint(\"weights_best.hdf5\", monitor=\"val_acc\", verbose=1, \n",
    "                             save_best_only=True, mode=\"max\")\n",
    "vgg.model.fit_generator(batches, samples_per_epoch=batches.bn_sample, \n",
    "                        nb_epoch=epochs, validation_data=valid_batches, \n",
    "                        nb_val_samples=valid_batches.nb_sample, callbacks=[checkpoint])"
   ]
  },
  {
   "cell_type": "code",
   "execution_count": null,
   "metadata": {},
   "outputs": [],
   "source": [
    "vgg.model.load_weights(\"weights_best.hdf5\")\n",
    "test_batches, preds = vgg.test(path + \"test/\", batch_size=batch_size)"
   ]
  },
  {
   "cell_type": "code",
   "execution_count": null,
   "metadata": {},
   "outputs": [],
   "source": [
    "filenames = [filename.split('.')[0] for filename in test_batches.filenames]\n",
    "subm = np.stack([filenames, preds[:, 0]], axis=1)\n",
    "np.savetxt(\"submission.csv\", subm, fmt=\"%d,%.5f\", header=\"id,invasive\", comments=\"\")"
   ]
  },
  {
   "cell_type": "code",
   "execution_count": null,
   "metadata": {},
   "outputs": [],
   "source": [
    "!kg submit submission.csv -u $USERNAME -p $PASSWORD -c invasive-species-monitoring -m \"\""
   ]
  }
 ],
 "metadata": {
  "kernelspec": {
   "display_name": "Python 3",
   "language": "python",
   "name": "python3"
  },
  "language_info": {
   "codemirror_mode": {
    "name": "ipython",
    "version": 3
   },
   "file_extension": ".py",
   "mimetype": "text/x-python",
   "name": "python",
   "nbconvert_exporter": "python",
   "pygments_lexer": "ipython3",
   "version": "3.5.3"
  }
 },
 "nbformat": 4,
 "nbformat_minor": 2
}
